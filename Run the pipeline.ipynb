{
 "cells": [
  {
   "cell_type": "code",
   "execution_count": 6,
   "metadata": {},
   "outputs": [
    {
     "ename": "TypeError",
     "evalue": "extract_qa_couples() takes from 1 to 5 positional arguments but 6 were given",
     "output_type": "error",
     "traceback": [
      "\u001b[1;31m---------------------------------------------------------------------------\u001b[0m",
      "\u001b[1;31mTypeError\u001b[0m                                 Traceback (most recent call last)",
      "\u001b[1;32m~\\AppData\\Local\\Temp/ipykernel_16684/3188362447.py\u001b[0m in \u001b[0;36m<module>\u001b[1;34m\u001b[0m\n\u001b[0;32m      1\u001b[0m \u001b[1;32mfrom\u001b[0m \u001b[0mQAO\u001b[0m\u001b[1;33m.\u001b[0m\u001b[0mextraction\u001b[0m \u001b[1;32mimport\u001b[0m \u001b[0mextract_qa_couples\u001b[0m\u001b[1;33m,\u001b[0m \u001b[0mextract_objectives\u001b[0m\u001b[1;33m\u001b[0m\u001b[1;33m\u001b[0m\u001b[0m\n\u001b[0;32m      2\u001b[0m \u001b[1;33m\u001b[0m\u001b[0m\n\u001b[1;32m----> 3\u001b[1;33m \u001b[0mQa_couples\u001b[0m \u001b[1;33m=\u001b[0m \u001b[0mextract_qa_couples\u001b[0m\u001b[1;33m(\u001b[0m\u001b[1;34m'QA - G1.csv'\u001b[0m\u001b[1;33m,\u001b[0m \u001b[1;34m'question'\u001b[0m\u001b[1;33m,\u001b[0m \u001b[1;34m'qid'\u001b[0m\u001b[1;33m,\u001b[0m \u001b[1;34m'answer'\u001b[0m\u001b[1;33m,\u001b[0m \u001b[1;34m'aid'\u001b[0m\u001b[1;33m,\u001b[0m \u001b[1;34m'source'\u001b[0m\u001b[1;33m)\u001b[0m\u001b[1;33m\u001b[0m\u001b[1;33m\u001b[0m\u001b[0m\n\u001b[0m\u001b[0;32m      4\u001b[0m \u001b[1;31m# Objectives = extract_objectives('Ruban CCPro.csv', description_column='Intitulé objectif pédagogique')\u001b[0m\u001b[1;33m\u001b[0m\u001b[1;33m\u001b[0m\u001b[0m\n",
      "\u001b[1;31mTypeError\u001b[0m: extract_qa_couples() takes from 1 to 5 positional arguments but 6 were given"
     ]
    }
   ],
   "source": [
    "from QAO.extraction import extract_qa_couples, extract_objectives\n",
    "\n",
    "Qa_couples = extract_qa_couples('Qa.csv', answer_column='response')\n",
    "Objectives = extract_objectives('Ruban.csv', description_column='Intitulé objectif pédagogique')"
   ]
  },
  {
   "cell_type": "code",
   "execution_count": 2,
   "metadata": {},
   "outputs": [
    {
     "ename": "NameError",
     "evalue": "name 'Qa_couples' is not defined",
     "output_type": "error",
     "traceback": [
      "\u001b[1;31m---------------------------------------------------------------------------\u001b[0m",
      "\u001b[1;31mNameError\u001b[0m                                 Traceback (most recent call last)",
      "\u001b[1;32m~\\AppData\\Local\\Temp/ipykernel_16684/3295701063.py\u001b[0m in \u001b[0;36m<module>\u001b[1;34m\u001b[0m\n\u001b[0;32m      1\u001b[0m \u001b[1;32mfrom\u001b[0m \u001b[0mQAO\u001b[0m\u001b[1;33m.\u001b[0m\u001b[0mtokenization\u001b[0m \u001b[1;32mimport\u001b[0m \u001b[0mtokenize_qa_couples\u001b[0m\u001b[1;33m,\u001b[0m \u001b[0mtokenize_objectives\u001b[0m\u001b[1;33m\u001b[0m\u001b[1;33m\u001b[0m\u001b[0m\n\u001b[0;32m      2\u001b[0m \u001b[1;33m\u001b[0m\u001b[0m\n\u001b[1;32m----> 3\u001b[1;33m \u001b[0mTokenized_qa_couples\u001b[0m \u001b[1;33m=\u001b[0m \u001b[0mtokenize_qa_couples\u001b[0m\u001b[1;33m(\u001b[0m\u001b[0mQa_couples\u001b[0m\u001b[1;33m,\u001b[0m \u001b[0muse_questions\u001b[0m\u001b[1;33m=\u001b[0m\u001b[1;32mFalse\u001b[0m\u001b[1;33m)\u001b[0m\u001b[1;33m\u001b[0m\u001b[1;33m\u001b[0m\u001b[0m\n\u001b[0m\u001b[0;32m      4\u001b[0m \u001b[0mTokenized_objectives\u001b[0m \u001b[1;33m=\u001b[0m \u001b[0mtokenize_objectives\u001b[0m\u001b[1;33m(\u001b[0m\u001b[0mObjectives\u001b[0m\u001b[1;33m)\u001b[0m\u001b[1;33m\u001b[0m\u001b[1;33m\u001b[0m\u001b[0m\n",
      "\u001b[1;31mNameError\u001b[0m: name 'Qa_couples' is not defined"
     ]
    }
   ],
   "source": [
    "from QAO.tokenization import tokenize_qa_couples, tokenize_objectives\n",
    "\n",
    "Tokenized_qa_couples = tokenize_qa_couples(Qa_couples, use_questions=False)\n",
    "Tokenized_objectives = tokenize_objectives(Objectives)"
   ]
  },
  {
   "cell_type": "code",
   "execution_count": null,
   "metadata": {},
   "outputs": [],
   "source": [
    "Tokenized_objectives"
   ]
  },
  {
   "cell_type": "code",
   "execution_count": 3,
   "metadata": {},
   "outputs": [
    {
     "name": "stderr",
     "output_type": "stream",
     "text": [
      "  1%|          | 40/4283 [03:35<6:20:25,  5.38s/it]\n"
     ]
    },
    {
     "ename": "KeyboardInterrupt",
     "evalue": "",
     "output_type": "error",
     "traceback": [
      "\u001b[1;31m---------------------------------------------------------------------------\u001b[0m",
      "\u001b[1;31mKeyboardInterrupt\u001b[0m                         Traceback (most recent call last)",
      "\u001b[1;32m~\\AppData\\Local\\Temp/ipykernel_17512/3323137205.py\u001b[0m in \u001b[0;36m<module>\u001b[1;34m\u001b[0m\n\u001b[0;32m      1\u001b[0m \u001b[1;32mfrom\u001b[0m \u001b[0mQAO\u001b[0m\u001b[1;33m.\u001b[0m\u001b[0mscore\u001b[0m \u001b[1;32mimport\u001b[0m \u001b[0mscore_qa_objective_couples\u001b[0m\u001b[1;33m\u001b[0m\u001b[1;33m\u001b[0m\u001b[0m\n\u001b[0;32m      2\u001b[0m \u001b[1;33m\u001b[0m\u001b[0m\n\u001b[1;32m----> 3\u001b[1;33m score_qa_objective_couples(\n\u001b[0m\u001b[0;32m      4\u001b[0m     \u001b[0mmodel_name\u001b[0m\u001b[1;33m=\u001b[0m\u001b[1;34m'ProfessorBob/qa-camembert-large-fquad-piaf-pysbd'\u001b[0m\u001b[1;33m,\u001b[0m\u001b[1;33m\u001b[0m\u001b[1;33m\u001b[0m\u001b[0m\n\u001b[0;32m      5\u001b[0m     \u001b[0mtokenized_qa_couples\u001b[0m\u001b[1;33m=\u001b[0m\u001b[0mQa_couples\u001b[0m\u001b[1;33m,\u001b[0m\u001b[1;33m\u001b[0m\u001b[1;33m\u001b[0m\u001b[0m\n",
      "\u001b[1;32mc:\\Users\\meri2\\Documents\\PBA\\QAO\\QAO\\score.py\u001b[0m in \u001b[0;36mscore_qa_objective_couples\u001b[1;34m(model_name, tokenized_qa_couples, tokenized_objectives, log_filepath, max_length, batch_size, tokenizer_name, objective_first, save_freq)\u001b[0m\n\u001b[0;32m     63\u001b[0m             \u001b[1;31m# Logging\u001b[0m\u001b[1;33m\u001b[0m\u001b[1;33m\u001b[0m\u001b[0m\n\u001b[0;32m     64\u001b[0m             \u001b[1;32mfor\u001b[0m \u001b[0mscore\u001b[0m \u001b[1;32min\u001b[0m \u001b[0mscores\u001b[0m\u001b[1;33m[\u001b[0m\u001b[1;33m:\u001b[0m\u001b[1;33m,\u001b[0m \u001b[1;36m1\u001b[0m\u001b[1;33m]\u001b[0m\u001b[1;33m:\u001b[0m\u001b[1;33m\u001b[0m\u001b[1;33m\u001b[0m\u001b[0m\n\u001b[1;32m---> 65\u001b[1;33m                 \u001b[0mscores_accumulator\u001b[0m\u001b[1;33m.\u001b[0m\u001b[0mappend\u001b[0m\u001b[1;33m(\u001b[0m\u001b[0mscore\u001b[0m\u001b[1;33m.\u001b[0m\u001b[0mitem\u001b[0m\u001b[1;33m(\u001b[0m\u001b[1;33m)\u001b[0m\u001b[1;33m)\u001b[0m\u001b[1;33m\u001b[0m\u001b[1;33m\u001b[0m\u001b[0m\n\u001b[0m\u001b[0;32m     66\u001b[0m             \u001b[0mtick\u001b[0m \u001b[1;33m+=\u001b[0m \u001b[1;36m1\u001b[0m\u001b[1;33m\u001b[0m\u001b[1;33m\u001b[0m\u001b[0m\n\u001b[0;32m     67\u001b[0m             \u001b[1;32mif\u001b[0m \u001b[0mtick\u001b[0m \u001b[1;33m==\u001b[0m \u001b[0msave_freq\u001b[0m\u001b[1;33m:\u001b[0m\u001b[1;33m\u001b[0m\u001b[1;33m\u001b[0m\u001b[0m\n",
      "\u001b[1;31mKeyboardInterrupt\u001b[0m: "
     ]
    }
   ],
   "source": [
    "from QAO.score import score_qa_objective_couples\n",
    "\n",
    "score_qa_objective_couples(\n",
    "    model_name='ProfessorBob/qa-camembert-large-fquad-piaf-pysbd',\n",
    "    tokenized_qa_couples=Tokenized_qa_couples,\n",
    "    tokenized_objectives=Tokenized_objectives,\n",
    "    log_filepath='V0.txt',\n",
    "    batch_size=100,\n",
    ")"
   ]
  },
  {
   "cell_type": "code",
   "execution_count": 3,
   "metadata": {},
   "outputs": [],
   "source": [
    "from QAO.retrieve import associate_keys_and_two_best\n",
    "\n",
    "Keys_and_two_best = associate_keys_and_two_best(Tokenized_qa_couples, Tokenized_objectives, 'V1.json')"
   ]
  },
  {
   "cell_type": "code",
   "execution_count": 4,
   "metadata": {},
   "outputs": [],
   "source": [
    "from QAO.format import full_format_data\n",
    "\n",
    "Data = full_format_data(Keys_and_two_best, Qa_couples, Objectives)\n",
    "\n",
    "with open('Classement sans pivot.csv', 'w', encoding='utf-8', newline='') as file:\n",
    "    Data.to_csv(file)"
   ]
  },
  {
   "cell_type": "code",
   "execution_count": 7,
   "metadata": {},
   "outputs": [],
   "source": [
    "with open('Classement sans pivot.csv', 'w', encoding='utf-8', newline='') as file:\n",
    "    Data.to_csv(file)"
   ]
  },
  {
   "cell_type": "code",
   "execution_count": null,
   "metadata": {},
   "outputs": [],
   "source": []
  }
 ],
 "metadata": {
  "interpreter": {
   "hash": "07d2458d2d97685183d3136e32d35855b2fab2257fccd11b49fd0462e7835ec0"
  },
  "kernelspec": {
   "display_name": "Python 3.9.7 64-bit ('rorch': conda)",
   "language": "python",
   "name": "python3"
  },
  "language_info": {
   "codemirror_mode": {
    "name": "ipython",
    "version": 3
   },
   "file_extension": ".py",
   "mimetype": "text/x-python",
   "name": "python",
   "nbconvert_exporter": "python",
   "pygments_lexer": "ipython3",
   "version": "3.9.7"
  },
  "orig_nbformat": 4
 },
 "nbformat": 4,
 "nbformat_minor": 2
}
