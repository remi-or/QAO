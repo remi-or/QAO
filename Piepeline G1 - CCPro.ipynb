{
 "cells": [
  {
   "cell_type": "code",
   "execution_count": null,
   "metadata": {},
   "outputs": [],
   "source": [
    "from QAO.extraction import extract_qa_couples, extract_objectives\n",
    "\n",
    "Qa_couples = extract_qa_couples('QA - G1.csv', 'question', 'qid', 'answer', 'aid', 'source')\n",
    "Objectives = extract_objectives('Ruban CCPro.csv', description_column='Intitulé objectif pédagogique')"
   ]
  },
  {
   "cell_type": "code",
   "execution_count": null,
   "metadata": {},
   "outputs": [],
   "source": [
    "from QAO.extraction import extract_document_to_days, extract_source_to_document\n",
    "\n",
    "Source_to_doc = extract_source_to_document(filepath=...)\n",
    "Doc_to_day = extract_document_to_days(filepath=...)"
   ]
  },
  {
   "cell_type": "code",
   "execution_count": null,
   "metadata": {},
   "outputs": [],
   "source": [
    "from QAO.format import format_qa_source_into_qakey_to_day\n",
    "\n",
    "Qakey_to_day = format_qa_source_into_qakey_to_day(Qa_couples, Source_to_doc, Doc_to_day)"
   ]
  },
  {
   "cell_type": "code",
   "execution_count": null,
   "metadata": {},
   "outputs": [],
   "source": [
    "from QAO.tokenization import tokenize_qa_couples, tokenize_objectives\n",
    "\n",
    "Tokenized_qa_couples = tokenize_qa_couples(Qa_couples, use_questions=False)\n",
    "Tokenized_objectives = tokenize_objectives(Objectives)"
   ]
  },
  {
   "cell_type": "code",
   "execution_count": null,
   "metadata": {},
   "outputs": [],
   "source": [
    "from QAO.score import score_qa_objective_couples\n",
    "\n",
    "score_qa_objective_couples(\n",
    "    model_name='ProfessorBob/qa-camembert-large-fquad-piaf-pysbd',\n",
    "    tokenized_qa_couples=Tokenized_qa_couples,\n",
    "    tokenized_objectives=Tokenized_objectives,\n",
    "    log_filepath='G1 CCPro - Scores.json',\n",
    "    batch_size=100,\n",
    ")"
   ]
  },
  {
   "cell_type": "code",
   "execution_count": null,
   "metadata": {},
   "outputs": [],
   "source": [
    "from QAO.retrieve import associate_keys_and_two_best\n",
    "\n",
    "Keys_and_two_best = associate_keys_and_two_best(Tokenized_qa_couples, Tokenized_objectives, 'G1 CCPro - Scores.json')"
   ]
  },
  {
   "cell_type": "code",
   "execution_count": null,
   "metadata": {},
   "outputs": [],
   "source": [
    "from QAO.format import full_format_data\n",
    "\n",
    "Data = full_format_data(Keys_and_two_best, Qa_couples, Objectives)\n",
    "\n",
    "with open('G1 CCPro - Classement.csv', 'w', encoding='utf-8', newline='') as file:\n",
    "    Data.to_csv(file)"
   ]
  }
 ],
 "metadata": {
  "interpreter": {
   "hash": "07d2458d2d97685183d3136e32d35855b2fab2257fccd11b49fd0462e7835ec0"
  },
  "kernelspec": {
   "display_name": "Python 3.9.7 64-bit ('rorch': conda)",
   "language": "python",
   "name": "python3"
  },
  "language_info": {
   "codemirror_mode": {
    "name": "ipython",
    "version": 3
   },
   "file_extension": ".py",
   "mimetype": "text/x-python",
   "name": "python",
   "nbconvert_exporter": "python",
   "pygments_lexer": "ipython3",
   "version": "3.9.7"
  },
  "orig_nbformat": 4
 },
 "nbformat": 4,
 "nbformat_minor": 2
}
